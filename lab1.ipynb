{
  "nbformat": 4,
  "nbformat_minor": 0,
  "metadata": {
    "colab": {
      "provenance": [],
      "authorship_tag": "ABX9TyPMQ6dPvjeoXybx/ZZ+w5yX",
      "include_colab_link": true
    },
    "kernelspec": {
      "name": "python3",
      "display_name": "Python 3"
    },
    "language_info": {
      "name": "python"
    }
  },
  "cells": [
    {
      "cell_type": "markdown",
      "metadata": {
        "id": "view-in-github",
        "colab_type": "text"
      },
      "source": [
        "<a href=\"https://colab.research.google.com/github/ophelia-coder/-InClassActivity-112524-/blob/main/lab1.ipynb\" target=\"_parent\"><img src=\"https://colab.research.google.com/assets/colab-badge.svg\" alt=\"Open In Colab\"/></a>"
      ]
    },
    {
      "cell_type": "code",
      "execution_count": 107,
      "metadata": {
        "id": "ou4D-Xrd36Vt"
      },
      "outputs": [],
      "source": [
        "import tensorflow as tf"
      ]
    },
    {
      "cell_type": "code",
      "source": [
        "import numpy as np\n",
        "\n"
      ],
      "metadata": {
        "id": "NltiOkjMoUEw"
      },
      "execution_count": 108,
      "outputs": []
    },
    {
      "cell_type": "code",
      "source": [
        "a = np.random.randint(1,30,size=16)\n",
        "print(a)\n"
      ],
      "metadata": {
        "colab": {
          "base_uri": "https://localhost:8080/"
        },
        "id": "2kkelbDvpfhV",
        "outputId": "944bc6e7-5f0c-4d8c-bae1-89ad895e9ed5"
      },
      "execution_count": 109,
      "outputs": [
        {
          "output_type": "stream",
          "name": "stdout",
          "text": [
            "[ 3 26 19 21 17  7  2  8  5 10 24 13 24 15  3  5]\n"
          ]
        }
      ]
    },
    {
      "cell_type": "code",
      "source": [
        "b = np.reshape(a,(4,4))\n",
        "print(b)"
      ],
      "metadata": {
        "colab": {
          "base_uri": "https://localhost:8080/"
        },
        "id": "5Ghwd1U6psBE",
        "outputId": "1bbd46dc-80d0-467a-a14d-289aedb3266a"
      },
      "execution_count": 110,
      "outputs": [
        {
          "output_type": "stream",
          "name": "stdout",
          "text": [
            "[[ 3 26 19 21]\n",
            " [17  7  2  8]\n",
            " [ 5 10 24 13]\n",
            " [24 15  3  5]]\n"
          ]
        }
      ]
    },
    {
      "cell_type": "code",
      "source": [
        "print(b[(0,1,2,3),(0,1,2,3)])"
      ],
      "metadata": {
        "colab": {
          "base_uri": "https://localhost:8080/"
        },
        "id": "4yNmQ0JC1xrX",
        "outputId": "0ce1fe76-41ae-4e07-b35f-96e6f704d67c"
      },
      "execution_count": 111,
      "outputs": [
        {
          "output_type": "stream",
          "name": "stdout",
          "text": [
            "[ 3  7 24  5]\n"
          ]
        }
      ]
    },
    {
      "cell_type": "code",
      "source": [
        "ans = []\n",
        "\n",
        "for i in range(b.shape[0]):\n",
        "  ans.append(int(b[i,i]))\n",
        "\n",
        "ans = np.array(ans)\n",
        "print(ans)"
      ],
      "metadata": {
        "colab": {
          "base_uri": "https://localhost:8080/"
        },
        "id": "c2sU2KNZ2Ojw",
        "outputId": "fdd54d82-f8e0-4e79-d740-d5af0dd67240"
      },
      "execution_count": 112,
      "outputs": [
        {
          "output_type": "stream",
          "name": "stdout",
          "text": [
            "[ 3  7 24  5]\n"
          ]
        }
      ]
    },
    {
      "cell_type": "code",
      "source": [
        "c = np.reshape(b,(-1))\n",
        "print(c)"
      ],
      "metadata": {
        "colab": {
          "base_uri": "https://localhost:8080/"
        },
        "id": "M8fMHeNxqcY2",
        "outputId": "32239955-a594-41da-9a68-54795427a297"
      },
      "execution_count": 113,
      "outputs": [
        {
          "output_type": "stream",
          "name": "stdout",
          "text": [
            "[ 3 26 19 21 17  7  2  8  5 10 24 13 24 15  3  5]\n"
          ]
        }
      ]
    },
    {
      "cell_type": "code",
      "source": [
        "A = [4,35,5,6,7,2,6,3,5,7,82,4]\n",
        "print(A)"
      ],
      "metadata": {
        "colab": {
          "base_uri": "https://localhost:8080/"
        },
        "id": "yptMFPbBwRz1",
        "outputId": "f49189bc-53d2-4ab9-d8a1-2bd5b75f83ba"
      },
      "execution_count": 114,
      "outputs": [
        {
          "output_type": "stream",
          "name": "stdout",
          "text": [
            "[4, 35, 5, 6, 7, 2, 6, 3, 5, 7, 82, 4]\n"
          ]
        }
      ]
    },
    {
      "cell_type": "code",
      "source": [
        "import scipy.stats as stats\n",
        "\n",
        "a = stats.binom(p=0.5, n=10)\n",
        "\n",
        "num = a.rvs(200)\n",
        "# print(num)\n",
        "\n",
        "num = np.array([\n",
        "    [-13, -13,   4,   6,  13,  13,  -4,  10],\n",
        "    [-10,   3,  11,  -1,   8,  -7, -10,  -9],\n",
        "    [ -5,  11,  -5, -12,   6,  -4, -14,   3],\n",
        "    [-12,   7,  -6,  12,  -6,   9,   1,  -5]\n",
        "]\n",
        ")\n",
        "def count_digits(x):\n",
        "  count = np.zeros(10, dtype=np.int16)\n",
        "  print(count)\n",
        "\n",
        "  # print(x)\n",
        "  x = x.reshape(-1)\n",
        "\n",
        "  for i in x:\n",
        "    if i >=0 and i <=9:\n",
        "      count[i] += 1\n",
        "\n",
        "  return count\n",
        "\n",
        "q5 = count_digits(num)\n",
        "print(q5)"
      ],
      "metadata": {
        "colab": {
          "base_uri": "https://localhost:8080/"
        },
        "id": "oRy86G524gnc",
        "outputId": "cd3c8d3e-84d0-4a34-f77a-8d0d45eaa5f6"
      },
      "execution_count": 115,
      "outputs": [
        {
          "output_type": "stream",
          "name": "stdout",
          "text": [
            "[0 0 0 0 0 0 0 0 0 0]\n",
            "[0 1 0 2 1 0 2 1 1 1]\n"
          ]
        }
      ]
    },
    {
      "cell_type": "code",
      "source": [
        "def sum_loop(A):\n",
        "    s = 0\n",
        "    for a in A.reshape(-1):\n",
        "        s += a\n",
        "    return s"
      ],
      "metadata": {
        "id": "5LKB8HiDAHjK"
      },
      "execution_count": 116,
      "outputs": []
    },
    {
      "cell_type": "code",
      "source": [
        "x1 = np.array([1,2])\n",
        "x2 = np.array([4,6])\n",
        "\n",
        "\n",
        "def dot_prod(a,b):\n",
        "  c = a*b\n",
        "  c = sum_loop(c)\n",
        "  return c\n",
        "\n",
        "q7 = dot_prod(x1,x2)\n",
        "\n",
        "print(q7)"
      ],
      "metadata": {
        "colab": {
          "base_uri": "https://localhost:8080/"
        },
        "id": "d6A_tq-Y5GSl",
        "outputId": "8151d94c-daab-4980-bc8a-f77597e20aeb"
      },
      "execution_count": 117,
      "outputs": [
        {
          "output_type": "stream",
          "name": "stdout",
          "text": [
            "16\n"
          ]
        }
      ]
    },
    {
      "cell_type": "code",
      "source": [
        "def euc_dis(a,b):\n",
        "  c = a - b\n",
        "  c = c**2\n",
        "  c = np.sum(c)\n",
        "  c = np.sqrt(c)\n",
        "  return c\n",
        "\n",
        "q8 = euc_dis(x1,x2)\n",
        "print(q8)"
      ],
      "metadata": {
        "colab": {
          "base_uri": "https://localhost:8080/"
        },
        "id": "qXRkXQGhBIIi",
        "outputId": "7315846c-d7e7-4d3e-e40f-502aac2e2bdc"
      },
      "execution_count": 118,
      "outputs": [
        {
          "output_type": "stream",
          "name": "stdout",
          "text": [
            "5.0\n"
          ]
        }
      ]
    },
    {
      "cell_type": "code",
      "source": [
        "y = np.array([0,1,0,1])\n",
        "p = np.array([1,1,0,0])\n",
        "\n",
        "c = y == p\n",
        "\n",
        "print(c)\n",
        "\n",
        "print(np.sum(c))\n",
        "\n",
        "acc = np.sum(c)/len(p)\n",
        "print(acc)"
      ],
      "metadata": {
        "colab": {
          "base_uri": "https://localhost:8080/"
        },
        "id": "poYt9Uw0EY6Z",
        "outputId": "ebf9cf56-fbd4-4ea3-abd8-2c77ef1d4772"
      },
      "execution_count": 119,
      "outputs": [
        {
          "output_type": "stream",
          "name": "stdout",
          "text": [
            "[False  True  True False]\n",
            "2\n",
            "0.5\n"
          ]
        }
      ]
    },
    {
      "cell_type": "code",
      "source": [
        "p = np.array([1.1,0.85,0.2])\n",
        "y = np.array([0.9,0.7,0.1])\n",
        "\n",
        "def mse(p,y):\n",
        "  e = p-y\n",
        "  se = e**2\n",
        "  se = np.sum(se)\n",
        "  mse = se/len(y)\n",
        "  return mse\n",
        "\n",
        "q11 = mse(p,y)\n",
        "\n",
        "print(q11)\n",
        "\n",
        "print(np.var(p ))"
      ],
      "metadata": {
        "colab": {
          "base_uri": "https://localhost:8080/"
        },
        "id": "0VQqhwf3Gvlp",
        "outputId": "e3a388c1-1cff-4240-da06-f4c97a302d03"
      },
      "execution_count": 120,
      "outputs": [
        {
          "output_type": "stream",
          "name": "stdout",
          "text": [
            "0.02416666666666668\n",
            "0.14388888888888893\n"
          ]
        }
      ]
    },
    {
      "cell_type": "code",
      "source": [
        "X = np.array([\n",
        "    [6, 1, 2, 3, 3],\n",
        "    [0, 6, 1, 4, 5],\n",
        "    [9, 2, 6, 0, 5],\n",
        "    [8, 2, 9, 3, 4],\n",
        "    [3, 1, 7, 0, 2],\n",
        "    [6, 2, 0, 4, 6],\n",
        "    [9, 0, 0, 9, 8],\n",
        "    [9, 6, 1, 8, 4],\n",
        "    [0, 4, 1, 5, 5],\n",
        "    [3, 4, 5, 5, 0]\n",
        "])\n",
        "\n",
        "def sel_feat(x,n):\n",
        "\n",
        "  var = np.var(x,axis=0)\n",
        "  print(var)\n",
        "\n",
        "  sorted_x = np.sort(var)\n",
        "\n",
        "  print(sorted_x)\n",
        "\n",
        "  a = np.argsort(var)\n",
        "  print(a)\n",
        "\n",
        "  col = a[-n:]\n",
        "  print(col)\n",
        "\n",
        "  return x[:,col]\n",
        "\n",
        "q12 = sel_feat(X,3)\n",
        "\n",
        "print(q12)\n",
        "\n",
        "\n"
      ],
      "metadata": {
        "colab": {
          "base_uri": "https://localhost:8080/"
        },
        "id": "mpJNHHpbLX2X",
        "outputId": "2dfd749d-ff54-44f9-c58c-d9db1a46f0cb"
      },
      "execution_count": 131,
      "outputs": [
        {
          "output_type": "stream",
          "name": "stdout",
          "text": [
            "[11.61  3.96  9.56  7.69  4.36]\n",
            "[ 3.96  4.36  7.69  9.56 11.61]\n",
            "[1 4 3 2 0]\n",
            "[3 2 0]\n",
            "[[3 2 6]\n",
            " [4 1 0]\n",
            " [0 6 9]\n",
            " [3 9 8]\n",
            " [0 7 3]\n",
            " [4 0 6]\n",
            " [9 0 9]\n",
            " [8 1 9]\n",
            " [5 1 0]\n",
            " [5 5 3]]\n"
          ]
        }
      ]
    },
    {
      "cell_type": "code",
      "source": [
        "import numpy as np\n",
        "\n",
        "X = np.array([\n",
        "    [6, 1, 2, 3, 3],\n",
        "    [0, 6, 1, 4, 5],\n",
        "    [9, 2, 6, 0, 5],\n",
        "    [8, 2, 9, 3, 4],\n",
        "    [3, 1, 7, 0, 2],\n",
        "    [6, 2, 0, 4, 6],\n",
        "    [9, 0, 0, 9, 8],\n",
        "    [9, 6, 1, 8, 4],\n",
        "    [0, 4, 1, 5, 5],\n",
        "    [3, 4, 5, 5, 0]\n",
        "])\n",
        "\n",
        "def sel_feat(x, n):\n",
        "    # Variance of each column\n",
        "    variances = np.var(x, axis=0)\n",
        "\n",
        "    # Indices of top-n columns (largest variances)\n",
        "    top_idx = np.argsort(variances)[-n:]\n",
        "\n",
        "    # Return those columns from the original data\n",
        "    return x[:, top_idx]\n",
        "\n",
        "q12 = sel_feat(X, 2)\n",
        "print(q12)\n"
      ],
      "metadata": {
        "colab": {
          "base_uri": "https://localhost:8080/"
        },
        "id": "hefpj9LWQ9l6",
        "outputId": "53fcfddd-6a30-4b9b-bee7-1e1198ad6b1f"
      },
      "execution_count": 125,
      "outputs": [
        {
          "output_type": "stream",
          "name": "stdout",
          "text": [
            "[[2 6]\n",
            " [1 0]\n",
            " [6 9]\n",
            " [9 8]\n",
            " [7 3]\n",
            " [0 6]\n",
            " [0 9]\n",
            " [1 9]\n",
            " [1 0]\n",
            " [5 3]]\n"
          ]
        }
      ]
    }
  ]
}